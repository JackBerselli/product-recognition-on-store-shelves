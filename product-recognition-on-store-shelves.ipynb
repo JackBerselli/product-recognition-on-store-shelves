{
 "cells": [
  {
   "cell_type": "code",
   "execution_count": null,
   "metadata": {},
   "outputs": [],
   "source": [
    "import numpy as np\n",
    "import cv2\n",
    "from matplotlib import pyplot as plt"
   ]
  },
  {
   "cell_type": "markdown",
   "metadata": {},
   "source": [
    "## Step A - Multiple Product Detection"
   ]
  },
  {
   "cell_type": "code",
   "execution_count": null,
   "metadata": {},
   "outputs": [],
   "source": [
    "query_images = ['models/0.jpg','models/1.jpg','models/11.jpg','models/19.jpg','models/24.jpg','models/25.jpg','models/26.jpg']\n",
    "scene_images = ['scenes/e1.png','scenes/e2.png','scenes/e3.png','scenes/e4.png','scenes/e5.png']"
   ]
  },
  {
   "cell_type": "code",
   "execution_count": null,
   "metadata": {
    "scrolled": false
   },
   "outputs": [],
   "source": [
    "MIN_MATCH_COUNT = 100\n",
    "\n",
    "for scene in scene_images:\n",
    "    \n",
    "    img2_bgr = cv2.imread(scene)\n",
    "    img2 = cv2.cvtColor(img2_bgr,cv2.COLOR_BGR2RGB)\n",
    "    \n",
    "    print(\"\\n Scene: \" + scene)\n",
    "    \n",
    "    plt.imshow(img2),plt.show();\n",
    "    \n",
    "    for img in query_images:\n",
    "        img1_bgr = cv2.imread(img)\n",
    "        img1 = cv2.cvtColor(img1_bgr,cv2.COLOR_BGR2RGB)\n",
    "        img2_bgr = cv2.imread(scene)\n",
    "        img2 = cv2.cvtColor(img2_bgr,cv2.COLOR_BGR2RGB)\n",
    "\n",
    "        sift = cv2.xfeatures2d.SIFT_create()\n",
    "\n",
    "        kp1, des1 = sift.detectAndCompute(img1,None)\n",
    "        kp2, des2 = sift.detectAndCompute(img2,None)\n",
    "\n",
    "        FLANN_INDEX_KDTREE = 1\n",
    "        index_params = dict(algorithm = FLANN_INDEX_KDTREE, trees = 5)\n",
    "        search_params = dict(checks = 50)\n",
    "\n",
    "        flann = cv2.FlannBasedMatcher(index_params, search_params)\n",
    "\n",
    "        matches = flann.knnMatch(des1,des2,k=2)\n",
    "\n",
    "        good = []\n",
    "        for m,n in matches:\n",
    "            if m.distance < 0.7*n.distance:\n",
    "                good.append(m)\n",
    "\n",
    "        if len(good)>MIN_MATCH_COUNT:\n",
    "            src_pts = np.float32([ kp1[m.queryIdx].pt for m in good ]).reshape(-1,1,2)\n",
    "            dst_pts = np.float32([ kp2[m.trainIdx].pt for m in good ]).reshape(-1,1,2)\n",
    "            M, mask = cv2.findHomography(src_pts, dst_pts, cv2.RANSAC,5.0)\n",
    "            matchesMask = mask.ravel().tolist()\n",
    "            h,w,d = img1.shape\n",
    "            pts = np.float32([ [0,0],[0,h-1],[w-1,h-1],[w-1,0] ]).reshape(-1,1,2)\n",
    "            dst = cv2.perspectiveTransform(pts,M)\n",
    "            img2 = cv2.polylines(img2,[np.int32(dst)],True,255,3, cv2.LINE_AA)\n",
    "            draw_params = dict(matchColor = (0,255,0), # draw matches in green color\n",
    "                           singlePointColor = None,\n",
    "                           matchesMask = matchesMask, # draw only inliers\n",
    "                           flags = 2)\n",
    "            print( \"Product \" + img + \": enough matches are found!!! - {}/{}\".format(len(good), MIN_MATCH_COUNT) )\n",
    "            img3 = cv2.drawMatches(img1,kp1,img2,kp2,good,None,**draw_params)\n",
    "        #    plt.figure(figsize = (15,15))\n",
    "            plt.imshow(img3),plt.show();\n",
    "        else:\n",
    "            print( \"Product \" + img + \": not enough matches are found - {}/{}\".format(len(good), MIN_MATCH_COUNT) )\n",
    "            matchesMask = None"
   ]
  }
 ],
 "metadata": {
  "kernelspec": {
   "display_name": "Python 3",
   "language": "python",
   "name": "python3"
  },
  "language_info": {
   "codemirror_mode": {
    "name": "ipython",
    "version": 3
   },
   "file_extension": ".py",
   "mimetype": "text/x-python",
   "name": "python",
   "nbconvert_exporter": "python",
   "pygments_lexer": "ipython3",
   "version": "3.5.10"
  }
 },
 "nbformat": 4,
 "nbformat_minor": 4
}
