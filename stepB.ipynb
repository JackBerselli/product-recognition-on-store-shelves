{
 "cells": [
  {
   "cell_type": "code",
   "execution_count": null,
   "metadata": {},
   "outputs": [],
   "source": [
    "import numpy as np\n",
    "import cv2\n",
    "from matplotlib import pyplot as plt"
   ]
  },
  {
   "cell_type": "code",
   "execution_count": null,
   "metadata": {},
   "outputs": [],
   "source": [
    "def buildRefTable(model): # OFFLINE PHASE\n",
    "   \n",
    "    kp_model, des_model = sift.detectAndCompute(model,None)\n",
    "\n",
    "\n",
    "    center_x = np.mean(list(kp_model[i].pt[0] for i in range(len(kp_model))))\n",
    "    center_y = np.mean(list(kp_model[i].pt[1] for i in range(len(kp_model))))\n",
    "\n",
    "\n",
    "    table={}\n",
    "    for kp, des in zip(kp_model, des_model):\n",
    "        v = ((center_x-kp.pt[0]), (center_y-kp.pt[1]))\n",
    "        table[tuple(des)]=tuple((kp.pt,kp.angle,kp.size,v))\n",
    "\n",
    "    return table,des_model"
   ]
  },
  {
   "cell_type": "code",
   "execution_count": null,
   "metadata": {
    "tags": []
   },
   "outputs": [],
   "source": [
    "sift = cv2.xfeatures2d.SIFT_create()\n",
    "\n",
    "model_bgr = cv2.imread('models/0.jpg')\n",
    "#model = cv2.cvtColor(model_bgr,cv2.COLOR_BGR2RGB)\n",
    "model = cv2.cvtColor(model_bgr,cv2.COLOR_BGR2GRAY)\n",
    "\n",
    "ref_table,des_model=buildRefTable(model)\n",
    "kp_model, des_model = sift.detectAndCompute(model,None)"
   ]
  },
  {
   "cell_type": "code",
   "execution_count": null,
   "metadata": {
    "tags": []
   },
   "outputs": [],
   "source": [
    "#train_bgr = cv2.imread('scenes/e1.png')\n",
    "#train = cv2.cvtColor(train_bgr,cv2.COLOR_BGR2RGB)\n",
    "train_gray = cv2.imread('scenes/h5.jpg',0)\n",
    "train = cv2.cvtColor(train_gray,cv2.COLOR_GRAY2RGB)\n",
    "\n",
    "\n",
    "\n",
    "kp_train, des_train = sift.detectAndCompute(train,None)\n",
    "\n",
    "FLANN_INDEX_KDTREE = 1\n",
    "index_params = dict(algorithm = FLANN_INDEX_KDTREE, trees = 5)\n",
    "search_params = dict(checks = 50)\n",
    "\n",
    "flann = cv2.FlannBasedMatcher(index_params, search_params)\n",
    "\n",
    "matches = flann.knnMatch(des_model,des_train,k=2)\n",
    "\n",
    "good_matches = []\n",
    "for m,n in matches:\n",
    "    if m.distance < n.distance:\n",
    "        good_matches.append(m)\n",
    "\n"
   ]
  },
  {
   "cell_type": "code",
   "execution_count": null,
   "metadata": {
    "tags": []
   },
   "outputs": [],
   "source": [
    "matches_4d = []\n",
    "for m in good_matches:\n",
    "    entry_model = ref_table[tuple(des_model[m.queryIdx])]\n",
    "    entry_train = kp_train[m.trainIdx]\n",
    "\n",
    "    angle = entry_train.angle - entry_model[1]\n",
    "    scale = entry_train.size / entry_model[2]\n",
    "    x_c = entry_train.pt[0] + scale*(np.cos(angle)*entry_model[3][0] - np.sin(angle)*entry_model[3][1])\n",
    "    y_c = entry_train.pt[1] + scale*(np.sin(angle)*entry_model[3][0] + np.cos(angle)*entry_model[3][1])\n",
    "\n",
    "    matches_4d.append((x_c,y_c,angle,scale))"
   ]
  },
  {
   "cell_type": "code",
   "execution_count": null,
   "metadata": {},
   "outputs": [],
   "source": [
    "X_BINS=10\n",
    "Y_BINS=8\n",
    "ANGLE_BINS=3\n",
    "SCALE_BINS=3\n",
    "\n",
    "x_max,x_min = train.shape[1]*1.1, -train.shape[1]*0.1\n",
    "y_max,y_min = train.shape[0]*1.1, -train.shape[0]*0.1\n",
    "angle_max,angle_min = 30, -30\n",
    "scale_max,scale_min = 4, 0\n",
    "\n",
    "def votesOnMatch(m_4d,train):\n",
    "\n",
    "    accumulator = np.zeros((X_BINS,Y_BINS,ANGLE_BINS,SCALE_BINS))\n",
    "\n",
    "    for m in m_4d:\n",
    "        try:\n",
    "            accumulator[int((m[0]-x_min)*X_BINS//(x_max-x_min))][int((m[1]-y_min)*Y_BINS//(y_max-y_min))][int((m[2]-angle_min)*ANGLE_BINS//(angle_max-angle_min))][int((m[3]-scale_min)*SCALE_BINS//(scale_max-scale_min))]+=1\n",
    "#            accumulator[int((m[0]-x_min)*X_BINS//(x_max-x_min))+1][int((m[1]-y_min)*Y_BINS//(y_max-y_min))+1][int((m[2]-angle_min)*ANGLE_BINS//(angle_max-angle_min))+1][int((m[3]-scale_min)*SCALE_BINS//(scale_max-scale_min))+1]+=1\n",
    "        except: pass\n",
    "        \n",
    "    return accumulator  "
   ]
  },
  {
   "cell_type": "code",
   "execution_count": null,
   "metadata": {
    "tags": []
   },
   "outputs": [],
   "source": [
    "accumulator=votesOnMatch(matches_4d,train)"
   ]
  },
  {
   "cell_type": "code",
   "execution_count": null,
   "metadata": {},
   "outputs": [],
   "source": [
    "print(sorted(np.ravel(accumulator)))"
   ]
  },
  {
   "cell_type": "code",
   "execution_count": null,
   "metadata": {},
   "outputs": [],
   "source": [
    "from mpl_toolkits.mplot3d import Axes3D\n",
    "import matplotlib.pyplot as plt\n",
    "import numpy as np\n",
    "\n",
    "fig = plt.figure(figsize=(15,15))\n",
    "ax = fig.add_subplot(111, projection='3d')\n",
    "x=[]\n",
    "y=[]\n",
    "z=[]\n",
    "c=[]\n",
    "for m in matches_4d:\n",
    "    x.append(m[0])\n",
    "    y.append(m[1])\n",
    "    z.append(m[2])\n",
    "    c.append(m[3])\n",
    "    \n",
    "\n",
    "img = ax.scatter(x, y, z, c=c, cmap=plt.hot())\n",
    "fig.colorbar(img)\n",
    "plt.show()"
   ]
  },
  {
   "cell_type": "code",
   "execution_count": null,
   "metadata": {},
   "outputs": [],
   "source": [
    "THRESHOLD = 20\n",
    "found_matches = np.argwhere(accumulator>THRESHOLD)\n",
    "better_matches = []\n",
    "for j in range(len(found_matches)):\n",
    "    f = found_matches[j]\n",
    "    better_matches.append([])\n",
    "    for i in range(len(matches_4d)):\n",
    "        m = matches_4d[i]\n",
    "        if m[0] >= x_min+f[0]*(x_max-x_min)/X_BINS and m[0] < x_min+(f[0]+1)*(x_max-x_min)/X_BINS\\\n",
    "        and m[1] >= y_min+f[1]*(y_max-y_min)/Y_BINS and m[1] < y_min+(f[1]+1)*(y_max-y_min)/Y_BINS\\\n",
    "        and m[2] >= angle_min+f[2]*(angle_max-angle_min)/ANGLE_BINS and m[2] < angle_min+(f[2]+1)*(angle_max-angle_min)/ANGLE_BINS\\\n",
    "        and m[3] >= scale_min+f[3]*(scale_max-scale_min)/SCALE_BINS and m[3] < scale_min+(f[3]+1)*(scale_max-scale_min)/SCALE_BINS:\n",
    "            better_matches[j].append(good_matches[i])  "
   ]
  },
  {
   "cell_type": "code",
   "execution_count": null,
   "metadata": {},
   "outputs": [],
   "source": [
    "for matches in better_matches:\n",
    "    src_pts = np.float32([ kp_model[m.queryIdx].pt for m in matches ]).reshape(-1,1,2)\n",
    "    dst_pts = np.float32([ kp_train[m.trainIdx].pt for m in matches ]).reshape(-1,1,2)\n",
    "    M, mask = cv2.findHomography(src_pts, dst_pts, cv2.RANSAC,5.0)\n",
    "    matchesMask = mask.ravel().tolist()\n",
    "    h,w = model.shape\n",
    "    pts = np.float32([ [0,0],[0,h-1],[w-1,h-1],[w-1,0] ]).reshape(-1,1,2)\n",
    "    dst = cv2.perspectiveTransform(pts,M)\n",
    "    draw_params = dict(matchColor = (0,0,0), # draw matches in green color\n",
    "                   singlePointColor = None,\n",
    "                   matchesMask = matchesMask, # draw only inliers\n",
    "                   flags = 2)\n",
    "    train = cv2.polylines(train,[np.int32(dst)],True,(0,255,0),3, cv2.LINE_AA)\n",
    "plt.figure(figsize = (15,15))\n",
    "plt.imshow(train),plt.show();"
   ]
  },
  {
   "cell_type": "code",
   "execution_count": null,
   "metadata": {},
   "outputs": [],
   "source": [
    "# x_bins=[((x_max-x_min)/X_BINS)*i+x_min for i in range(X_BINS+1)]\n",
    "# y_bins=[((y_max-y_min)/Y_BINS)*i+y_min for i in range(Y_BINS+1)]\n",
    "# angle_bins=[((angle_max-angle_min)/ANGLE_BINS)*i+angle_min for i in range(ANGLE_BINS+1)]\n",
    "# scale_bins=[((scale_max-scale_min)/SCALE_BINS)*i+scale_min for i in range(SCALE_BINS+1)]"
   ]
  },
  {
   "cell_type": "code",
   "execution_count": null,
   "metadata": {},
   "outputs": [],
   "source": [
    "# model part \n",
    "\n",
    "sift = cv2.xfeatures2d.SIFT_create()\n",
    "\n",
    "model_bgr = cv2.imread('models/0.jpg')\n",
    "model = cv2.cvtColor(model_bgr,cv2.COLOR_BGR2RGB)\n",
    "\n",
    "kp_model, des_model = sift.detectAndCompute(model,None)\n",
    "\n",
    "\n",
    "center_x, center_y= np.mean(list(kp_model[i].pt[0] for i in range(len(kp_model)))), np.mean(list(kp_model[i].pt[1] for i in range(len(kp_model))))\n",
    "\n",
    "\n",
    "\n",
    "\n",
    "# Number of keypoints\n",
    "print(len(kp_model))\n",
    "\n",
    "# Location of the keypoint\n",
    "print(kp_model[0].pt)\n",
    "\n",
    "# Scale\n",
    "print(kp_model[0].size)\n",
    "\n",
    "# Rotation\n",
    "print(kp_model[0].angle)\n"
   ]
  },
  {
   "cell_type": "code",
   "execution_count": null,
   "metadata": {},
   "outputs": [],
   "source": [
    "\n",
    "train_bgr = cv2.imread('scenes/e1.png')\n",
    "train = cv2.cvtColor(train_bgr,cv2.COLOR_BGR2RGB)\n",
    "\n",
    "kp_train, des_train = sift.detectAndCompute(train,None)\n",
    "\n",
    "FLANN_INDEX_KDTREE = 1\n",
    "index_params = dict(algorithm = FLANN_INDEX_KDTREE, trees = 5)\n",
    "search_params = dict(checks = 50)\n",
    "\n",
    "flann = cv2.FlannBasedMatcher(index_params, search_params)\n",
    "\n",
    "matches = flann.knnMatch(des1,des2,k=2)\n"
   ]
  }
 ],
 "metadata": {
  "kernelspec": {
   "display_name": "Python 3",
   "language": "python",
   "name": "python3"
  },
  "language_info": {
   "codemirror_mode": {
    "name": "ipython",
    "version": 3
   },
   "file_extension": ".py",
   "mimetype": "text/x-python",
   "name": "python",
   "nbconvert_exporter": "python",
   "pygments_lexer": "ipython3",
   "version": "3.5.10"
  }
 },
 "nbformat": 4,
 "nbformat_minor": 4
}
