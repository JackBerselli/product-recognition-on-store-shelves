{
 "cells": [
  {
   "cell_type": "code",
   "execution_count": null,
   "metadata": {},
   "outputs": [],
   "source": [
    "import numpy as np\n",
    "import cv2\n",
    "from matplotlib import pyplot as plt"
   ]
  },
  {
   "cell_type": "code",
   "execution_count": null,
   "metadata": {},
   "outputs": [],
   "source": [
    "sift = cv2.xfeatures2d.SIFT_create()"
   ]
  },
  {
   "cell_type": "code",
   "execution_count": null,
   "metadata": {
    "tags": []
   },
   "outputs": [],
   "source": [
    "# detect features in model \n",
    "query = cv2.imread('models/1.jpg',0)\n",
    "kp_query, des_query = sift.detectAndCompute(query,None)\n",
    "\n",
    "query_xc = np.mean(list(kp_query[i].pt[0] for i in range(len(kp_query))))\n",
    "query_yc = np.mean(list(kp_query[i].pt[1] for i in range(len(kp_query))))"
   ]
  },
  {
   "cell_type": "code",
   "execution_count": null,
   "metadata": {},
   "outputs": [],
   "source": [
    "#detect features in train\n",
    "train = cv2.imread('scenes/m2.png',0)\n",
    "kp_train, des_train = sift.detectAndCompute(train,None)"
   ]
  },
  {
   "cell_type": "raw",
   "metadata": {},
   "source": [
    "#compute correspondences \n",
    "\n",
    "FLANN_INDEX_KDTREE = 1\n",
    "index_params = dict(algorithm = FLANN_INDEX_KDTREE, trees = 5)\n",
    "search_params = dict(checks = 50)\n",
    "\n",
    "flann = cv2.FlannBasedMatcher(index_params, search_params)\n",
    "\n",
    "matches = flann.knnMatch(des_query,des_train,k=2)\n",
    "\n",
    "good_kp_query = []\n",
    "good_kp_train = []\n",
    "\n",
    "for m,n in matches:\n",
    "    if m.distance < 0.8*n.distance:\n",
    "        good_kp_query.append(kp_query[m.queryIdx])\n",
    "        good_kp_train.append(kp_train[m.trainIdx])"
   ]
  },
  {
   "cell_type": "code",
   "execution_count": null,
   "metadata": {},
   "outputs": [],
   "source": [
    "#compute correspondences \n",
    "\n",
    "FLANN_INDEX_KDTREE = 1\n",
    "index_params = dict(algorithm = FLANN_INDEX_KDTREE, trees = 5)\n",
    "search_params = dict(checks = 50)\n",
    "\n",
    "flann = cv2.FlannBasedMatcher(index_params, search_params)\n",
    "\n",
    "matches = flann.knnMatch(des_train,des_query,k=2)\n",
    "\n",
    "good_kp_query = []\n",
    "good_kp_train = []\n",
    "\n",
    "for m,n in matches:\n",
    "    if m.distance < 0.9*n.distance:\n",
    "        good_kp_query.append(kp_query[m.trainIdx])\n",
    "        good_kp_train.append(kp_train[m.queryIdx])"
   ]
  },
  {
   "cell_type": "code",
   "execution_count": null,
   "metadata": {},
   "outputs": [],
   "source": [
    "print(len(good_kp_query))\n",
    "print(len(set(good_kp_query)))"
   ]
  },
  {
   "cell_type": "code",
   "execution_count": null,
   "metadata": {},
   "outputs": [],
   "source": [
    "matches_4d = []\n",
    "\n",
    "for entry_query,entry_train in zip(good_kp_query,good_kp_train):\n",
    "\n",
    "    v = ((query_xc-entry_query.pt[0]), (query_yc-entry_query.pt[1]))\n",
    "    delta_angle = entry_train.angle - entry_query.angle\n",
    "    ratio_scale = entry_train.size / entry_query.size\n",
    "    train_xc = entry_train.pt[0] + ratio_scale * (np.cos(delta_angle) * v[0] - np.sin(delta_angle) * v[1])\n",
    "    train_yc = entry_train.pt[1] + ratio_scale * (np.sin(delta_angle) * v[0] + np.cos(delta_angle) * v[1])\n",
    "\n",
    "    matches_4d.append((train_xc,train_yc,delta_angle,ratio_scale))"
   ]
  },
  {
   "cell_type": "code",
   "execution_count": null,
   "metadata": {},
   "outputs": [],
   "source": [
    "data_scale = list(matches_4d[i][3] for i in range(len(matches_4d)))\n",
    "counts_scale, bins_scale, patches_size = plt.hist(data_scale,bins='auto')\n",
    "img_scale = np.mean([bins_scale[np.argmax(counts_scale)],bins_scale[np.argmax(counts_scale)+1]])\n",
    "plt.close();"
   ]
  },
  {
   "cell_type": "code",
   "execution_count": null,
   "metadata": {},
   "outputs": [],
   "source": [
    "data_angle = list(matches_4d[i][2] for i in range(len(matches_4d)))\n",
    "counts_angle, bins_angle, patches_angle = plt.hist(data_angle,bins='auto')\n",
    "plt.close();"
   ]
  },
  {
   "cell_type": "code",
   "execution_count": null,
   "metadata": {},
   "outputs": [],
   "source": [
    "BIN_PRECISION_FACTOR = 0.25\n",
    "x_bin_size = img_scale * query.shape[1] * BIN_PRECISION_FACTOR\n",
    "y_bin_size = img_scale * query.shape[0] * BIN_PRECISION_FACTOR\n",
    "x_bins = int(np.ceil(train.shape[1]/x_bin_size)+2)\n",
    "y_bins = int(np.ceil(train.shape[0]/y_bin_size)+2)\n",
    "x_min = train.shape[1]/2 - x_bins/2 * x_bin_size\n",
    "y_min = train.shape[0]/2 - y_bins/2 * y_bin_size\n",
    "x_max = train.shape[1]/2 + x_bins/2 * x_bin_size\n",
    "y_max = train.shape[0]/2 + y_bins/2 * y_bin_size\n",
    "print(x_bin_size,y_bin_size)\n",
    "print(x_bins,y_bins)\n",
    "print(x_min,y_min)\n",
    "print(x_min+x_bins * x_bin_size,y_min+y_bins * y_bin_size)"
   ]
  },
  {
   "cell_type": "code",
   "execution_count": null,
   "metadata": {},
   "outputs": [],
   "source": [
    "ANGLE_BINS = 7\n",
    "angle_bin_size = np.std(data_angle)/10\n",
    "angle_bin_center = np.mean(data_angle)\n",
    "angle_min = angle_bin_center - ANGLE_BINS/2 * angle_bin_size\n",
    "angle_max = angle_bin_center + ANGLE_BINS/2 * angle_bin_size\n",
    "print(angle_bin_size)\n",
    "print(angle_min)"
   ]
  },
  {
   "cell_type": "code",
   "execution_count": null,
   "metadata": {},
   "outputs": [],
   "source": [
    "SCALE_BINS = 7\n",
    "scale_bin_size = np.std(data_scale)/10\n",
    "scale_bin_center = np.mean(data_scale)\n",
    "scale_min = scale_bin_center - SCALE_BINS/2 * scale_bin_size\n",
    "scale_max = scale_bin_center + SCALE_BINS/2 * scale_bin_size\n",
    "print(scale_bin_size)\n",
    "print(scale_min)"
   ]
  },
  {
   "cell_type": "code",
   "execution_count": null,
   "metadata": {},
   "outputs": [],
   "source": [
    "def votesOnMatch(m_4d):\n",
    "\n",
    "    accumulator = np.zeros((x_bins,y_bins,ANGLE_BINS,SCALE_BINS))\n",
    "    votes = {}\n",
    "\n",
    "    for m in m_4d:\n",
    "        try:\n",
    "            i = int(np.floor((m[0]-x_min)/x_bin_size))\n",
    "            j = int(np.floor((m[1]-y_min)/y_bin_size))\n",
    "            k = int(np.floor((m[2]-angle_min)/angle_bin_size))\n",
    "            l = int(np.floor((m[3]-scale_min)/scale_bin_size))\n",
    "            accumulator[i][j][k][l]+=1\n",
    "            votes[(i,j,k,l)] = votes.get((i,j,k,l),[])\n",
    "            votes[(i,j,k,l)].append(m)\n",
    "        except: pass\n",
    "        try:\n",
    "            i = int(np.ceil((m[0]-x_min-x_bin_size/2)/x_bin_size))\n",
    "            j = int(np.ceil((m[1]-y_min-y_bin_size/2)/y_bin_size))\n",
    "            k = int(np.ceil((m[2]-angle_min-angle_bin_size/2)/angle_bin_size))\n",
    "            l = int(np.ceil((m[3]-scale_min-scale_bin_size/2)/scale_bin_size))\n",
    "            accumulator[i][j][k][l]+=1\n",
    "            votes[(i,j,k,l)] = votes.get((i,j,k,l),[])\n",
    "            votes[(i,j,k,l)].append(m)\n",
    "        except: pass\n",
    "        \n",
    "    return accumulator,votes"
   ]
  },
  {
   "cell_type": "code",
   "execution_count": null,
   "metadata": {},
   "outputs": [],
   "source": [
    "accumulator,votes=votesOnMatch(matches_4d)"
   ]
  },
  {
   "cell_type": "code",
   "execution_count": null,
   "metadata": {},
   "outputs": [],
   "source": [
    "print(sorted(np.ravel(accumulator)))"
   ]
  },
  {
   "cell_type": "code",
   "execution_count": null,
   "metadata": {},
   "outputs": [],
   "source": [
    "print(votes)"
   ]
  },
  {
   "cell_type": "code",
   "execution_count": null,
   "metadata": {},
   "outputs": [],
   "source": [
    "train2 = cv2.imread('scenes/m2.png',0)\n",
    "train2 = cv2.cvtColor(train2,cv2.COLOR_GRAY2RGB)\n",
    "for m in matches_4d:\n",
    "    cv2.circle(train2, (int(m[0]),int(m[1])), radius=2, color=(255, 0, 0), thickness=-1)\n",
    "plt.figure(figsize = (15,10))\n",
    "plt.imshow(train2),plt.show();"
   ]
  },
  {
   "cell_type": "code",
   "execution_count": null,
   "metadata": {},
   "outputs": [],
   "source": [
    "THRESHOLD = 9\n",
    "found_bins = np.argwhere(accumulator>=THRESHOLD)\n",
    "better_matches = []\n",
    "\n",
    "for b in found_bins:\n",
    "    matches = []\n",
    "    for i in range(len(matches_4d)):\n",
    "        if matches_4d[i] in votes[tuple(b)]:\n",
    "            matches.append((good_kp_query[i],good_kp_train[i]))\n",
    "    better_matches.append(matches)"
   ]
  },
  {
   "cell_type": "code",
   "execution_count": null,
   "metadata": {},
   "outputs": [],
   "source": [
    "train3 = cv2.cvtColor(train,cv2.COLOR_GRAY2RGB)\n",
    "\n",
    "for matches in better_matches:\n",
    "    src_pts = np.float32([ m[0].pt for m in matches ]).reshape(-1,1,2)\n",
    "    dst_pts = np.float32([ m[1].pt for m in matches ]).reshape(-1,1,2)\n",
    "    M, mask = cv2.findHomography(src_pts, dst_pts, cv2.RANSAC,5.0)\n",
    "    matchesMask = mask.ravel().tolist()\n",
    "    h,w = query.shape\n",
    "    pts = np.float32([ [0,0],[0,h-1],[w-1,h-1],[w-1,0] ]).reshape(-1,1,2)\n",
    "    dst = cv2.perspectiveTransform(pts,M)\n",
    "    draw_params = dict(matchColor = (0,0,0), # draw matches in green color\n",
    "                   singlePointColor = None,\n",
    "                   matchesMask = matchesMask, # draw only inliers\n",
    "                   flags = 2)\n",
    "    train3 = cv2.polylines(train3,[np.int32(dst)],True,(0,255,0),3, cv2.LINE_AA)\n",
    "plt.figure(figsize = (15,10))\n",
    "plt.imshow(train3),plt.show();"
   ]
  },
  {
   "cell_type": "raw",
   "metadata": {},
   "source": []
  },
  {
   "cell_type": "raw",
   "metadata": {
    "tags": []
   },
   "source": [
    "#train_bgr = cv2.imread('scenes/e1.png')\n",
    "#train = cv2.cvtColor(train_bgr,cv2.COLOR_BGR2RGB)\n",
    "train_gray = cv2.imread('scenes/h5.jpg',0)\n",
    "train = cv2.cvtColor(train_gray,cv2.COLOR_GRAY2RGB)\n",
    "\n",
    "\n",
    "\n",
    "kp_train, des_train = sift.detectAndCompute(train,None)\n",
    "\n",
    "FLANN_INDEX_KDTREE = 1\n",
    "index_params = dict(algorithm = FLANN_INDEX_KDTREE, trees = 5)\n",
    "search_params = dict(checks = 50)\n",
    "\n",
    "flann = cv2.FlannBasedMatcher(index_params, search_params)\n",
    "\n",
    "matches = flann.knnMatch(des_model,des_train,k=2)\n",
    "\n",
    "good_matches = []\n",
    "for m,n in matches:\n",
    "    if m.distance < n.distance:\n",
    "        good_matches.append(m)\n",
    "\n"
   ]
  },
  {
   "cell_type": "raw",
   "metadata": {
    "tags": []
   },
   "source": [
    "matches_4d = []\n",
    "for m in good_matches:\n",
    "    entry_model = ref_table[tuple(des_model[m.queryIdx])]\n",
    "    entry_train = kp_train[m.trainIdx]\n",
    "\n",
    "    angle = entry_train.angle - entry_model[1]\n",
    "    scale = entry_train.size / entry_model[2]\n",
    "    x_c = entry_train.pt[0] + scale*(np.cos(angle)*entry_model[3][0] - np.sin(angle)*entry_model[3][1])\n",
    "    y_c = entry_train.pt[1] + scale*(np.sin(angle)*entry_model[3][0] + np.cos(angle)*entry_model[3][1])\n",
    "\n",
    "    matches_4d.append((x_c,y_c,angle,scale))"
   ]
  },
  {
   "cell_type": "raw",
   "metadata": {},
   "source": [
    "X_BINS=10\n",
    "Y_BINS=8\n",
    "ANGLE_BINS=3\n",
    "SCALE_BINS=3\n",
    "\n",
    "x_max,x_min = train.shape[1]*1.1, -train.shape[1]*0.1\n",
    "y_max,y_min = train.shape[0]*1.1, -train.shape[0]*0.1\n",
    "angle_max,angle_min = 30, -30\n",
    "scale_max,scale_min = 4, 0\n",
    "\n",
    "def votesOnMatch(m_4d,train):\n",
    "\n",
    "    accumulator = np.zeros((X_BINS,Y_BINS,ANGLE_BINS,SCALE_BINS))\n",
    "\n",
    "    for m in m_4d:\n",
    "        try:\n",
    "            accumulator[int((m[0]-x_min)*X_BINS//(x_max-x_min))][int((m[1]-y_min)*Y_BINS//(y_max-y_min))][int((m[2]-angle_min)*ANGLE_BINS//(angle_max-angle_min))][int((m[3]-scale_min)*SCALE_BINS//(scale_max-scale_min))]+=1\n",
    "#            accumulator[int((m[0]-x_min)*X_BINS//(x_max-x_min))+1][int((m[1]-y_min)*Y_BINS//(y_max-y_min))+1][int((m[2]-angle_min)*ANGLE_BINS//(angle_max-angle_min))+1][int((m[3]-scale_min)*SCALE_BINS//(scale_max-scale_min))+1]+=1\n",
    "        except: pass\n",
    "        \n",
    "    return accumulator  "
   ]
  },
  {
   "cell_type": "raw",
   "metadata": {
    "tags": []
   },
   "source": [
    "accumulator=votesOnMatch(matches_4d,train)"
   ]
  },
  {
   "cell_type": "raw",
   "metadata": {},
   "source": [
    "print(sorted(np.ravel(accumulator)))"
   ]
  },
  {
   "cell_type": "raw",
   "metadata": {},
   "source": [
    "from mpl_toolkits.mplot3d import Axes3D\n",
    "import matplotlib.pyplot as plt\n",
    "import numpy as np\n",
    "\n",
    "fig = plt.figure(figsize=(15,15))\n",
    "ax = fig.add_subplot(111, projection='3d')\n",
    "x=[]\n",
    "y=[]\n",
    "z=[]\n",
    "c=[]\n",
    "for m in matches_4d:\n",
    "    x.append(m[0])\n",
    "    y.append(m[1])\n",
    "    z.append(m[2])\n",
    "    c.append(m[3])\n",
    "    \n",
    "\n",
    "img = ax.scatter(x, y, z, c=c, cmap=plt.hot())\n",
    "fig.colorbar(img)\n",
    "plt.show()"
   ]
  },
  {
   "cell_type": "raw",
   "metadata": {},
   "source": [
    "THRESHOLD = 15\n",
    "found_matches = np.argwhere(accumulator>THRESHOLD)\n",
    "better_matches = []\n",
    "for j in range(len(found_matches)):\n",
    "    f = found_matches[j]\n",
    "    better_matches.append([])\n",
    "    for i in range(len(matches_4d)):\n",
    "        m = matches_4d[i]\n",
    "        if m[0] >= x_min+f[0]*(x_max-x_min)/X_BINS and m[0] < x_min+(f[0]+1)*(x_max-x_min)/X_BINS\\\n",
    "        and m[1] >= y_min+f[1]*(y_max-y_min)/Y_BINS and m[1] < y_min+(f[1]+1)*(y_max-y_min)/Y_BINS\\\n",
    "        and m[2] >= angle_min+f[2]*(angle_max-angle_min)/ANGLE_BINS and m[2] < angle_min+(f[2]+1)*(angle_max-angle_min)/ANGLE_BINS\\\n",
    "        and m[3] >= scale_min+f[3]*(scale_max-scale_min)/SCALE_BINS and m[3] < scale_min+(f[3]+1)*(scale_max-scale_min)/SCALE_BINS:\n",
    "            better_matches[j].append(good_matches[i])  "
   ]
  },
  {
   "cell_type": "raw",
   "metadata": {},
   "source": [
    "for matches in better_matches:\n",
    "    src_pts = np.float32([ kp_model[m.queryIdx].pt for m in matches ]).reshape(-1,1,2)\n",
    "    dst_pts = np.float32([ kp_train[m.trainIdx].pt for m in matches ]).reshape(-1,1,2)\n",
    "    M, mask = cv2.findHomography(src_pts, dst_pts, cv2.RANSAC,5.0)\n",
    "    matchesMask = mask.ravel().tolist()\n",
    "    h,w = model.shape\n",
    "    pts = np.float32([ [0,0],[0,h-1],[w-1,h-1],[w-1,0] ]).reshape(-1,1,2)\n",
    "    dst = cv2.perspectiveTransform(pts,M)\n",
    "    draw_params = dict(matchColor = (0,0,0), # draw matches in green color\n",
    "                   singlePointColor = None,\n",
    "                   matchesMask = matchesMask, # draw only inliers\n",
    "                   flags = 2)\n",
    "    train = cv2.polylines(train,[np.int32(dst)],True,(0,255,0),3, cv2.LINE_AA)\n",
    "plt.figure(figsize = (15,15))\n",
    "plt.imshow(train),plt.show();"
   ]
  },
  {
   "cell_type": "raw",
   "metadata": {},
   "source": [
    "# x_bins=[((x_max-x_min)/X_BINS)*i+x_min for i in range(X_BINS+1)]\n",
    "# y_bins=[((y_max-y_min)/Y_BINS)*i+y_min for i in range(Y_BINS+1)]\n",
    "# angle_bins=[((angle_max-angle_min)/ANGLE_BINS)*i+angle_min for i in range(ANGLE_BINS+1)]\n",
    "# scale_bins=[((scale_max-scale_min)/SCALE_BINS)*i+scale_min for i in range(SCALE_BINS+1)]"
   ]
  },
  {
   "cell_type": "raw",
   "metadata": {},
   "source": [
    "# model part \n",
    "\n",
    "sift = cv2.xfeatures2d.SIFT_create()\n",
    "\n",
    "model_bgr = cv2.imread('models/0.jpg')\n",
    "model = cv2.cvtColor(model_bgr,cv2.COLOR_BGR2RGB)\n",
    "\n",
    "kp_model, des_model = sift.detectAndCompute(model,None)\n",
    "\n",
    "\n",
    "center_x, center_y= np.mean(list(kp_model[i].pt[0] for i in range(len(kp_model)))), np.mean(list(kp_model[i].pt[1] for i in range(len(kp_model))))\n",
    "\n",
    "\n",
    "\n",
    "\n",
    "# Number of keypoints\n",
    "print(len(kp_model))\n",
    "\n",
    "# Location of the keypoint\n",
    "print(kp_model[0].pt)\n",
    "\n",
    "# Scale\n",
    "print(kp_model[0].size)\n",
    "\n",
    "# Rotation\n",
    "print(kp_model[0].angle)\n"
   ]
  },
  {
   "cell_type": "raw",
   "metadata": {},
   "source": [
    "\n",
    "train_bgr = cv2.imread('scenes/e1.png')\n",
    "train = cv2.cvtColor(train_bgr,cv2.COLOR_BGR2RGB)\n",
    "\n",
    "kp_train, des_train = sift.detectAndCompute(train,None)\n",
    "\n",
    "FLANN_INDEX_KDTREE = 1\n",
    "index_params = dict(algorithm = FLANN_INDEX_KDTREE, trees = 5)\n",
    "search_params = dict(checks = 50)\n",
    "\n",
    "flann = cv2.FlannBasedMatcher(index_params, search_params)\n",
    "\n",
    "matches = flann.knnMatch(des1,des2,k=2)\n"
   ]
  }
 ],
 "metadata": {
  "kernelspec": {
   "name": "python3",
   "display_name": "Python 3.5.6 64-bit ('CV_Uni': conda)",
   "metadata": {
    "interpreter": {
     "hash": "54a39dc1fa59a3a0bdc5af0d975ea326f867ff80747cd5d0d0bee76236fc20d3"
    }
   }
  },
  "language_info": {
   "codemirror_mode": {
    "name": "ipython",
    "version": 3
   },
   "file_extension": ".py",
   "mimetype": "text/x-python",
   "name": "python",
   "nbconvert_exporter": "python",
   "pygments_lexer": "ipython3",
   "version": "3.5.6-final"
  }
 },
 "nbformat": 4,
 "nbformat_minor": 4
}